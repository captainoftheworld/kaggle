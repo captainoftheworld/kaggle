{
 "cells": [
  {
   "cell_type": "code",
   "execution_count": 6,
   "metadata": {},
   "outputs": [
    {
     "name": "stdout",
     "output_type": "stream",
     "text": [
      "Requirement already satisfied: kaggle in /Users/jihyun/anaconda3/lib/python3.6/site-packages (1.5.2)\r\n",
      "Requirement already satisfied: requests in /Users/jihyun/anaconda3/lib/python3.6/site-packages (from kaggle) (2.18.4)\r\n",
      "Requirement already satisfied: certifi in /Users/jihyun/anaconda3/lib/python3.6/site-packages (from kaggle) (2018.4.16)\r\n",
      "Requirement already satisfied: urllib3<1.23.0,>=1.15 in /Users/jihyun/anaconda3/lib/python3.6/site-packages (from kaggle) (1.22)\r\n",
      "Requirement already satisfied: python-dateutil in /Users/jihyun/anaconda3/lib/python3.6/site-packages (from kaggle) (2.7.3)\r\n",
      "Requirement already satisfied: python-slugify in /Users/jihyun/anaconda3/lib/python3.6/site-packages (from kaggle) (2.0.1)\r\n",
      "Requirement already satisfied: tqdm in /Users/jihyun/anaconda3/lib/python3.6/site-packages (from kaggle) (4.31.1)\r\n",
      "Requirement already satisfied: six>=1.10 in /Users/jihyun/anaconda3/lib/python3.6/site-packages (from kaggle) (1.11.0)\r\n",
      "Requirement already satisfied: chardet<3.1.0,>=3.0.2 in /Users/jihyun/anaconda3/lib/python3.6/site-packages (from requests->kaggle) (3.0.4)\r\n",
      "Requirement already satisfied: idna<2.7,>=2.5 in /Users/jihyun/anaconda3/lib/python3.6/site-packages (from requests->kaggle) (2.6)\r\n",
      "Requirement already satisfied: Unidecode>=0.04.16 in /Users/jihyun/anaconda3/lib/python3.6/site-packages (from python-slugify->kaggle) (1.0.23)\r\n"
     ]
    }
   ],
   "source": [
    "!pip install kaggle"
   ]
  },
  {
   "cell_type": "code",
   "execution_count": 7,
   "metadata": {},
   "outputs": [
    {
     "name": "stdout",
     "output_type": "stream",
     "text": [
      "Name: kaggle\r\n",
      "Version: 1.5.2\r\n",
      "Summary: Kaggle API\r\n",
      "Home-page: https://github.com/Kaggle/kaggle-api\r\n",
      "Author: Kaggle\r\n",
      "Author-email: support@kaggle.com\r\n",
      "License: Apache 2.0\r\n",
      "Location: /Users/jihyun/anaconda3/lib/python3.6/site-packages\r\n",
      "Requires: urllib3, requests, certifi, six, tqdm, python-slugify, python-dateutil\r\n",
      "Required-by: \r\n"
     ]
    }
   ],
   "source": [
    "!pip show kaggle"
   ]
  },
  {
   "cell_type": "markdown",
   "metadata": {},
   "source": [
    "* kaggle.json 경로이동\n",
    "\n",
    "    $ mv Downloads/kaggle.json /Users/jihyun/.kaggle/.\n",
    "    \n",
    "    $ chmod 600 /Users/jihyun/.kaggle/kaggle.json"
   ]
  },
  {
   "cell_type": "code",
   "execution_count": 16,
   "metadata": {},
   "outputs": [
    {
     "name": "stdout",
     "output_type": "stream",
     "text": [
      "usage: kaggle config [-h] {view,set,unset} ...\r\n",
      "kaggle config: error: argument command: invalid choice: 'path' (choose from 'view', 'set', 'unset')\r\n"
     ]
    }
   ],
   "source": [
    "!kaggle config path"
   ]
  },
  {
   "cell_type": "code",
   "execution_count": 13,
   "metadata": {},
   "outputs": [
    {
     "name": "stdout",
     "output_type": "stream",
     "text": [
      "ref                                     deadline             category   reward  teamCount  userHasEntered  \r\n",
      "--------------------------------------  -------------------  --------  -------  ---------  --------------  \r\n",
      "talkingdata-adtracking-fraud-detection  2018-05-07 23:59:00  Featured  $25,000       3951           False  \r\n"
     ]
    }
   ],
   "source": [
    "!kaggle competitions list -s fraud"
   ]
  },
  {
   "cell_type": "markdown",
   "metadata": {},
   "source": [
    "### 데이터 다운로드"
   ]
  },
  {
   "cell_type": "code",
   "execution_count": 14,
   "metadata": {},
   "outputs": [
    {
     "name": "stdout",
     "output_type": "stream",
     "text": [
      "Downloading train.csv to /Users/jihyun/Desktop/kaggle\n",
      "100%|███████████████████████████████████████| 59.8k/59.8k [00:00<00:00, 320kB/s]\n",
      "\n",
      "Downloading test.csv to /Users/jihyun/Desktop/kaggle\n",
      "  0%|                                               | 0.00/28.0k [00:00<?, ?B/s]\n",
      "100%|██████████████████████████████████████| 28.0k/28.0k [00:00<00:00, 23.0MB/s]\n",
      "Downloading gender_submission.csv to /Users/jihyun/Desktop/kaggle\n",
      "  0%|                                               | 0.00/3.18k [00:00<?, ?B/s]\n",
      "100%|██████████████████████████████████████| 3.18k/3.18k [00:00<00:00, 4.87MB/s]\n"
     ]
    }
   ],
   "source": [
    "# 다운로드 경로 설정해서 다운로드 받는 방법\n",
    "!kaggle competitions download -c titanic -p ./kaggle_api_data/titanic\n",
    "# !kaggle competitions download -c titanic"
   ]
  },
  {
   "cell_type": "code",
   "execution_count": 15,
   "metadata": {},
   "outputs": [
    {
     "name": "stdout",
     "output_type": "stream",
     "text": [
      "name                   size  creationDate         \r\n",
      "---------------------  ----  -------------------  \r\n",
      "train.csv              60KB  2013-06-28 13:40:25  \r\n",
      "test.csv               28KB  2013-06-28 13:40:24  \r\n",
      "gender_submission.csv   3KB  2017-02-01 01:49:18  \r\n"
     ]
    }
   ],
   "source": [
    "!kaggle competitions files -c titanic"
   ]
  },
  {
   "cell_type": "markdown",
   "metadata": {},
   "source": [
    "### Submission"
   ]
  },
  {
   "cell_type": "code",
   "execution_count": null,
   "metadata": {},
   "outputs": [],
   "source": [
    "!kaggle competitions submit -c titanic -f ./titanic/submissions/model.csv"
   ]
  },
  {
   "cell_type": "code",
   "execution_count": null,
   "metadata": {},
   "outputs": [],
   "source": [
    "!kaggle competitions submissions -c titanic"
   ]
  }
 ],
 "metadata": {
  "kernelspec": {
   "display_name": "Python 3",
   "language": "python",
   "name": "python3"
  },
  "language_info": {
   "codemirror_mode": {
    "name": "ipython",
    "version": 3
   },
   "file_extension": ".py",
   "mimetype": "text/x-python",
   "name": "python",
   "nbconvert_exporter": "python",
   "pygments_lexer": "ipython3",
   "version": "3.6.5"
  }
 },
 "nbformat": 4,
 "nbformat_minor": 2
}
